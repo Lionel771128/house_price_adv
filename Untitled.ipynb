{
 "cells": [
  {
   "cell_type": "code",
   "execution_count": 1,
   "metadata": {},
   "outputs": [
    {
     "data": {
      "text/plain": [
       "<Figure size 640x480 with 1 Axes>"
      ]
     },
     "metadata": {},
     "output_type": "display_data"
    }
   ],
   "source": [
    "import numpy as np\n",
    "import pandas as pd\n",
    "from pandas import Series,DataFrame\n",
    "import matplotlib.pyplot as plt\n",
    "from pylab import mpl\n",
    "mpl.rcParams['font.sans-serif'] = ['SimHei']        #指定預設字型\n",
    "from sklearn.linear_model import Ridge\n",
    "from sklearn.ensemble import  BaggingRegressor\n",
    "from sklearn.model_selection import cross_val_score\n",
    "from sklearn.ensemble import AdaBoostRegressor\n",
    "# from xgboost import XGBRegressor\n",
    "\n",
    "\n",
    "\n",
    "#讀取資料\n",
    "train_df = pd.read_csv(\"train.csv\",index_col=0)\n",
    "test_df = pd.read_csv('test.csv',index_col=0)\n",
    "\n",
    "'''\n",
    "    1、鑑於kaggle專案train_df和test_df都已給出，做處理時可以合併起來一起處理，另外train_df中標籤項\n",
    "即SalePrice需要先取出\n",
    "'''\n",
    "#log1p, 也就是 log(x+1),將label平滑化\n",
    "prices = pd.DataFrame({\"price\":train_df[\"SalePrice\"], \"log(price + 1)\":np.log1p(train_df[\"SalePrice\"])})\n",
    "\n",
    "# plt.ylabel(u\"數量\")\n",
    "# plt.title(u\"房屋總價\")\n",
    "# prices.hist()\n",
    "# plt.show()\n",
    "\n",
    "y_train = np.log1p(train_df.pop('SalePrice'))\n",
    "all_df = pd.concat((train_df,test_df),axis=0)\n",
    "\n",
    "'''\n",
    "    2、特徵處理：變數轉化，將不方便處理的資料或不統一的資料進行處理\n",
    "'''\n",
    "#!!!!! MMSubClass應該為Category,因此需要現將其轉換為string\n",
    "all_df['MSSubClass'] = all_df['MSSubClass'].astype(str)\n",
    "# print(all_df['MSSubClass'].value_counts())\n",
    "# print(pd.get_dummies(all_df['MSSubClass'],prefix='MSSubClass').head(5))\n",
    "\n",
    "#將所有category資料進行OneHot\n",
    "all_dummy_df = pd.get_dummies(all_df)\n",
    "# all_dummy_df.to_csv('G:/KNNtest/HousePrice/One_hot.csv')      #將所有Category資料進行OneHot之後儲存\n",
    "\n",
    "# print(all_dummy_df.isnull().sum().sort_values(ascending=False).head(20))      #讀取出所有特徵中缺失項的數目\n",
    "#使用平均值來填補空缺\n",
    "mean_cols = all_dummy_df.mean()\n",
    "all_dummy_df = all_dummy_df.fillna(mean_cols)\n",
    "\n",
    "#標準化numeric資料，一般regression分類器需要將源資料放在一個標準分佈內（x-x'）/s\n",
    "numric_cols = all_df.columns[all_df.dtypes != 'object']     #找出numeric資料\n",
    "numric_cols_means = all_dummy_df.loc[:,numric_cols].mean()\n",
    "numric_cols_std = all_dummy_df.loc[:,numric_cols].std()      #標準差s\n",
    "all_dummy_df.loc[:,numric_cols] = (all_dummy_df.loc[:,numric_cols] - numric_cols_means)/numric_cols_std\n",
    "\n",
    "\n",
    "'''\n",
    "    3、建立模型\n",
    "    Bagging把很多的小分類器放在一起，每個train隨機的一部分資料，然後把它們的最終結果綜合起來（多數投票制）。\n",
    "    \n",
    "    （1）先測試ridge模型得到CV值在alpha=15時最小為0.135\n",
    "    （2）使用25個ridge的Bagging得到值低於0.133\n",
    "    （3）Boosting比Bagging理論上更高階點，它也是攬來一把的分類器。但是把他們線性排列。下一個分類器把上一個\n",
    "    分類器分類得不好的地方加上更高的權重，這樣下一個分類器就能在這個部分學得更加“深刻”。\n",
    "    （4）XGBoost分類器。效果顯著！！！\n",
    "'''\n",
    "#把資料重新分回訓練集和測試集\n",
    "dummy_train_df = all_dummy_df.loc[train_df.index]\n",
    "dummy_test_df = all_dummy_df.loc[test_df.index]\n",
    "\n",
    "X_train = dummy_train_df.values\n",
    "X_test = dummy_test_df.values\n",
    "                              #由圖知道在alpha=15左右交叉驗證誤差基本最小,約為0.135\n"
   ]
  },
  {
   "cell_type": "code",
   "execution_count": 2,
   "metadata": {},
   "outputs": [
    {
     "name": "stderr",
     "output_type": "stream",
     "text": [
      "findfont: Font family ['sans-serif'] not found. Falling back to DejaVu Sans.\n",
      "findfont: Font family ['sans-serif'] not found. Falling back to DejaVu Sans.\n"
     ]
    },
    {
     "data": {
      "image/png": "[encoded data removed]",
      "text/plain": [
       "<Figure size 432x288 with 1 Axes>"
      ]
     },
     "metadata": {
      "needs_background": "light"
     },
     "output_type": "display_data"
    }
   ],
   "source": [
    "'''\n",
    "(1)ridge模型測試\n",
    "'''\n",
    "alphas = np.logspace(-3, 2, 50) #-3,2表示開始點和結束點10的冪次方，50代表元素個數\n",
    "test_scores = []\n",
    "for alpha in alphas:\n",
    "    clf = Ridge(alpha)\n",
    "    test_score = np.sqrt(-cross_val_score(clf, X_train, y_train, cv=10, scoring='neg_mean_squared_error'))\n",
    "    test_scores.append(np.mean(test_score))\n",
    "plt.plot(alphas,test_scores)\n",
    "plt.title('Aplha VS CV Error')\n",
    "plt.show() "
   ]
  },
  {
   "cell_type": "code",
   "execution_count": null,
   "metadata": {},
   "outputs": [],
   "source": []
  }
 ],
 "metadata": {
  "kernelspec": {
   "display_name": "Python 3",
   "language": "python",
   "name": "python3"
  },
  "language_info": {
   "codemirror_mode": {
    "name": "ipython",
    "version": 3
   },
   "file_extension": ".py",
   "mimetype": "text/x-python",
   "name": "python",
   "nbconvert_exporter": "python",
   "pygments_lexer": "ipython3",
   "version": "3.7.3"
  }
 },
 "nbformat": 4,
 "nbformat_minor": 2
}
